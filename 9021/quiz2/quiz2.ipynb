{
 "cells": [
  {
   "cell_type": "code",
   "execution_count": null,
   "id": "cebb9afb",
   "metadata": {},
   "outputs": [],
   "source": [
    "# Written by *** for COMP9021\n",
    "#\n",
    "# Besides a function to generate a random dictionary,\n",
    "# defines two functions that analyse a dictionary.\n",
    "# See the pdf for explanations via an illustration\n",
    "# and examples of possible uses.\n",
    "#\n",
    "# You can assume that both functions are called with proper\n",
    "# arguments (namely, a dictionary whose keys are all integers\n",
    "# between 1 and n for some strictly positive integer n\n",
    "# and whose values are numbers between 1 and n,\n",
    "# and an integer between 1 and n).\n",
    "#\n",
    "# The lines that are output by the\n",
    "# function longest_strictly_decreasing_sequences_to()\n",
    "# are ordered from smallest first value to largest first value.\n",
    "\n",
    "\n",
    "from random import seed, randint\n",
    "\n",
    "def generate_mapping(for_seed, length):\n",
    "    seed(for_seed)\n",
    "    return {i: randint(1, length) for i in range(1, length + 1)}\n",
    "\n",
    "def follow_the_arrows_from(mapping, n):\n",
    "    pass\n",
    "    # REPLACE PASS ABOVE WITH YOUR CODE\n",
    "\n",
    "def longest_strictly_decreasing_sequences_to(mapping, n):\n",
    "    if n not in mapping.values():\n",
    "        return\n",
    "    # Hint: create a dictionary, D, whose keys are the\n",
    "    # numbers i in the interval [n + 1, len(mapping)]\n",
    "    # such that there is a path from i to n, with as\n",
    "    # corresponding value the length of this path.\n",
    "    # max(D.values()) evaluates to the largest length\n",
    "    # of those paths; let M denote that value.\n",
    "    # For each number i in the interval [n + 1, len(mapping)],\n",
    "    # if i is a key of D and M is the associated value, then\n",
    "    # output i, mapping[i], mapping[mapping[i]], ..., n,\n",
    "    # separating consecutive values with ->.\n",
    "    # INSERT YOUR CODE HERE"
   ]
  },
  {
   "cell_type": "code",
   "execution_count": null,
   "id": "7ce86bef",
   "metadata": {},
   "outputs": [],
   "source": [
    "#首先key和 value先存起来，根据不在value找到所有起始点 然后根据即在key又在value找到loop的值\n",
    "#通过一个循环开始 到自己结束 （以此区分出有几个loop）\n",
    "mapping = generate_mapping(0, 10)\n",
    "print(mapping)\n",
    "follow_the_arrows_from(mapping,1)"
   ]
  },
  {
   "cell_type": "code",
   "execution_count": 17,
   "id": "70f32cd6",
   "metadata": {},
   "outputs": [
    {
     "name": "stdout",
     "output_type": "stream",
     "text": [
      "9\n"
     ]
    }
   ],
   "source": [
    "mapping={1 : 7, 2 : 7, 3 : 1, 4 : 5, 5 : 9, 6 : 8, 7 : 7, 8 : 5, 9 : 8, 10 : 6}\n",
    "find_loop=mapping.copy()\n",
    "a=find_loop[5]\n",
    "print(a)\n",
    "# print(find_loop)\n",
    "# print(mapping)\n",
    "# if 3 in find_loop:\n",
    "#     print(1)"
   ]
  },
  {
   "cell_type": "code",
   "execution_count": 10,
   "id": "8e7be2a3",
   "metadata": {},
   "outputs": [
    {
     "name": "stdout",
     "output_type": "stream",
     "text": [
      "True\n",
      "{1: 7, 2: 7, 3: 1, 4: 5, 5: 9, 6: 8, 7: 7, 8: 5, 9: 8, 10: 6}\n"
     ]
    }
   ],
   "source": [
    "mapping={1 : 7, 2 : 7, 3 : 1, 4 : 5, 5 : 9, 6 : 8, 7 : 7, 8 : 5, 9 : 8, 10 : 6}\n",
    "if sorted(list(mapping.values()))!=sorted(list(mapping.keys())):\n",
    "    print(True)\n",
    "print(mapping)"
   ]
  },
  {
   "cell_type": "code",
   "execution_count": 19,
   "id": "c6d68fae",
   "metadata": {},
   "outputs": [
    {
     "name": "stdout",
     "output_type": "stream",
     "text": [
      "3.141592653589793\n"
     ]
    }
   ],
   "source": [
    "def f():\n",
    "    import math\n",
    "    print(math.pi)\n",
    "f()"
   ]
  },
  {
   "cell_type": "code",
   "execution_count": 21,
   "id": "77c40a56",
   "metadata": {},
   "outputs": [
    {
     "data": {
      "text/plain": [
       "3"
      ]
     },
     "execution_count": 21,
     "metadata": {},
     "output_type": "execute_result"
    }
   ],
   "source": [
    "max([1,2,3])"
   ]
  }
 ],
 "metadata": {
  "kernelspec": {
   "display_name": "Python 3 (ipykernel)",
   "language": "python",
   "name": "python3"
  },
  "language_info": {
   "codemirror_mode": {
    "name": "ipython",
    "version": 3
   },
   "file_extension": ".py",
   "mimetype": "text/x-python",
   "name": "python",
   "nbconvert_exporter": "python",
   "pygments_lexer": "ipython3",
   "version": "3.9.12"
  }
 },
 "nbformat": 4,
 "nbformat_minor": 5
}
