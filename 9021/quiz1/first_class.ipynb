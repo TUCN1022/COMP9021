{
 "cells": [
  {
   "cell_type": "code",
   "execution_count": 1,
   "id": "23f64e53-52f1-43f0-ba70-7af36f436629",
   "metadata": {},
   "outputs": [
    {
     "name": "stdout",
     "output_type": "stream",
     "text": [
      "Writing my_first_program.py\n"
     ]
    }
   ],
   "source": [
    "%%writefile my_first_program.py\n",
    "print('Hi')\n",
    "print(f'2 times 3 equals to {2*3}')\n",
    "print('Bye!')"
   ]
  },
  {
   "cell_type": "code",
   "execution_count": 1,
   "id": "b5082c7d-5561-4dfc-965b-147b1e464a15",
   "metadata": {},
   "outputs": [
    {
     "name": "stdout",
     "output_type": "stream",
     "text": [
      "print('Hi')\n",
      "print(f'2 times 3 equals to {2*3}')\n",
      "print('Bye!')\n"
     ]
    }
   ],
   "source": [
    "%cat my_first_program.py"
   ]
  },
  {
   "cell_type": "code",
   "execution_count": 6,
   "id": "57fb7ebf-959a-4ab4-bf4f-57fc0f689352",
   "metadata": {},
   "outputs": [],
   "source": [
    "# %load my_first_program.py\n",
    "print('Hi')\n",
    "print(f'2 times 3 equals to {2*3}')\n",
    "print('Bye!')\n"
   ]
  },
  {
   "cell_type": "code",
   "execution_count": 8,
   "id": "0eeb280c-9ee8-4892-88b2-b6b2e9ac53d4",
   "metadata": {},
   "outputs": [
    {
     "name": "stdout",
     "output_type": "stream",
     "text": [
      "      10.1,   11.0\n"
     ]
    }
   ],
   "source": [
    "a=10.1\n",
    "b=11\n",
    "print(f'{a:10},{b:7.1f}')"
   ]
  },
  {
   "cell_type": "code",
   "execution_count": 9,
   "id": "59aa55c1-f505-425c-950b-1f5876063dae",
   "metadata": {},
   "outputs": [
    {
     "name": "stdout",
     "output_type": "stream",
     "text": [
      "a\tb\n",
      "aa\tb\n",
      "aaa\tb\n",
      "aaaa\tb\n",
      "aaaaa\tb\n"
     ]
    }
   ],
   "source": [
    "print('a\\tb')\n",
    "print('aa\\tb')\n",
    "print('aaa\\tb')\n",
    "print('aaaa\\tb')\n",
    "print('aaaaa\\tb')"
   ]
  }
 ],
 "metadata": {
  "kernelspec": {
   "display_name": "Python 3 (ipykernel)",
   "language": "python",
   "name": "python3"
  },
  "language_info": {
   "codemirror_mode": {
    "name": "ipython",
    "version": 3
   },
   "file_extension": ".py",
   "mimetype": "text/x-python",
   "name": "python",
   "nbconvert_exporter": "python",
   "pygments_lexer": "ipython3",
   "version": "3.9.12"
  }
 },
 "nbformat": 4,
 "nbformat_minor": 5
}
